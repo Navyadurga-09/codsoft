{
  "cells": [
    {
      "cell_type": "markdown",
      "metadata": {
        "id": "view-in-github",
        "colab_type": "text"
      },
      "source": [
        "<a href=\"https://colab.research.google.com/github/Navyadurga-09/codsoft/blob/main/Welcome_To_Colab.ipynb\" target=\"_parent\"><img src=\"https://colab.research.google.com/assets/colab-badge.svg\" alt=\"Open In Colab\"/></a>"
      ]
    },
    {
      "cell_type": "markdown",
      "source": [
        "# TASK 5\n"
      ],
      "metadata": {
        "id": "5v0s6SsDs7JH"
      }
    },
    {
      "cell_type": "code",
      "source": [
        "contacts = {}\n",
        "def add_contact():\n",
        "    name = input(\"Enter name: \")\n",
        "    phone = input(\"Enter phone number: \")\n",
        "    contacts[name] = phone\n",
        "    print(\"Contact added!\")\n",
        "def view_contacts():\n",
        "    if not contacts:\n",
        "        print(\"No contacts found.\")\n",
        "    else:\n",
        "        print(\"\\n--- Contact List ---\")\n",
        "        for name, phone in contacts.items():\n",
        "            print(\"Name:\", name, \"| Phone:\", phone)\n",
        "def search_contact():\n",
        "    name = input(\"Enter name to search: \")\n",
        "    if name in contacts:\n",
        "        print(\"Phone number:\", contacts[name])\n",
        "    else:\n",
        "        print(\"Contact not found.\")\n",
        "def delete_contact():\n",
        "    name = input(\"Enter name to delete: \")\n",
        "    if name in contacts:\n",
        "        del contacts[name]\n",
        "        print(\"Contact deleted.\")\n",
        "    else:\n",
        "        print(\"Contact not found.\")\n",
        "def menu():\n",
        "    while True:\n",
        "        print(\"\\n--- Contact Manager ---\")\n",
        "        print(\"1. Add Contact\")\n",
        "        print(\"2. View Contacts\")\n",
        "        print(\"3. Search Contact\")\n",
        "        print(\"4. Delete Contact\")\n",
        "        print(\"5. Exit\")\n",
        "        choice = input(\"Choose 1-5: \")\n",
        "        if choice == '1':\n",
        "            add_contact()\n",
        "        elif choice == '2':\n",
        "            view_contacts()\n",
        "        elif choice == '3':\n",
        "            search_contact()\n",
        "        elif choice == '4':\n",
        "            delete_contact()\n",
        "        elif choice == '5':\n",
        "            print(\"Goodbye!\")\n",
        "            break\n",
        "        else:\n",
        "            print(\"Invalid choice.\")\n",
        "menu()\n"
      ],
      "metadata": {
        "colab": {
          "base_uri": "https://localhost:8080/"
        },
        "id": "0TJBA0JStC28",
        "outputId": "b1a00def-392e-4ee9-d325-dd89c9659366"
      },
      "execution_count": 3,
      "outputs": [
        {
          "output_type": "stream",
          "name": "stdout",
          "text": [
            "\n",
            "--- Contact Manager ---\n",
            "1. Add Contact\n",
            "2. View Contacts\n",
            "3. Search Contact\n",
            "4. Delete Contact\n",
            "5. Exit\n",
            "Choose 1-5: 1\n",
            "Enter name: navya\n",
            "Enter phone number: 5677778899\n",
            "Contact added!\n",
            "\n",
            "--- Contact Manager ---\n",
            "1. Add Contact\n",
            "2. View Contacts\n",
            "3. Search Contact\n",
            "4. Delete Contact\n",
            "5. Exit\n",
            "Choose 1-5: 2\n",
            "\n",
            "--- Contact List ---\n",
            "Name: navya | Phone: 5677778899\n",
            "\n",
            "--- Contact Manager ---\n",
            "1. Add Contact\n",
            "2. View Contacts\n",
            "3. Search Contact\n",
            "4. Delete Contact\n",
            "5. Exit\n",
            "Choose 1-5: 3\n",
            "Enter name to search: navya\n",
            "Phone number: 5677778899\n",
            "\n",
            "--- Contact Manager ---\n",
            "1. Add Contact\n",
            "2. View Contacts\n",
            "3. Search Contact\n",
            "4. Delete Contact\n",
            "5. Exit\n",
            "Choose 1-5: 4\n",
            "Enter name to delete: navya\n",
            "Contact deleted.\n",
            "\n",
            "--- Contact Manager ---\n",
            "1. Add Contact\n",
            "2. View Contacts\n",
            "3. Search Contact\n",
            "4. Delete Contact\n",
            "5. Exit\n",
            "Choose 1-5: 5\n",
            "Goodbye!\n"
          ]
        }
      ]
    }
  ],
  "metadata": {
    "colab": {
      "name": "Welcome To Colab",
      "toc_visible": true,
      "provenance": [],
      "include_colab_link": true
    },
    "kernelspec": {
      "display_name": "Python 3",
      "name": "python3"
    }
  },
  "nbformat": 4,
  "nbformat_minor": 0
}