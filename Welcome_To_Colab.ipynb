{
  "cells": [
    {
      "cell_type": "markdown",
      "metadata": {
        "id": "view-in-github",
        "colab_type": "text"
      },
      "source": [
        "<a href=\"https://colab.research.google.com/github/Navyadurga-09/codsoft/blob/main/Welcome_To_Colab.ipynb\" target=\"_parent\"><img src=\"https://colab.research.google.com/assets/colab-badge.svg\" alt=\"Open In Colab\"/></a>"
      ]
    },
    {
      "cell_type": "markdown",
      "source": [
        "# TASK 1"
      ],
      "metadata": {
        "id": "5v0s6SsDs7JH"
      }
    },
    {
      "cell_type": "code",
      "source": [
        "\n",
        "num1 = float(input(\"Enter the first number: \"))\n",
        "num2 = float(input(\"Enter the second number: \"))\n",
        "print(\"Select operation:\")\n",
        "print(\"1. Addition \")\n",
        "print(\"2. Subtraction \")\n",
        "print(\"3. Multiplication \")\n",
        "print(\"4. Division \")\n",
        "choice = input(\"Enter the operation : \")\n",
        "if choice == '1':\n",
        "    result = num1 + num2\n",
        "    print(\"Result:\", num1, \"+\", num2, \"=\", result)\n",
        "elif choice == '2':\n",
        "    result = num1 - num2\n",
        "    print(\"Result:\", num1, \"-\", num2, \"=\", result)\n",
        "elif choice == '3':\n",
        "    result = num1 * num2\n",
        "    print(\"Result:\", num1, \"*\", num2, \"=\", result)\n",
        "elif choice == '4':\n",
        "    if num2 != 0:\n",
        "        result = num1 / num2\n",
        "        print(\"Result:\", num1, \"/\", num2, \"=\", result)\n",
        "    else:\n",
        "        print(\"Error: Division by zero is not allowed.\")\n",
        "else:\n",
        "    print(\"Invalid operation choice.\")\n"
      ],
      "metadata": {
        "id": "0TJBA0JStC28"
      },
      "execution_count": null,
      "outputs": []
    }
  ],
  "metadata": {
    "colab": {
      "name": "Welcome To Colab",
      "toc_visible": true,
      "provenance": [],
      "include_colab_link": true
    },
    "kernelspec": {
      "display_name": "Python 3",
      "name": "python3"
    }
  },
  "nbformat": 4,
  "nbformat_minor": 0
}