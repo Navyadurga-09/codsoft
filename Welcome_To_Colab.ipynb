{
  "cells": [
    {
      "cell_type": "markdown",
      "metadata": {
        "id": "view-in-github",
        "colab_type": "text"
      },
      "source": [
        "<a href=\"https://colab.research.google.com/github/Navyadurga-09/codsoft/blob/main/Welcome_To_Colab.ipynb\" target=\"_parent\"><img src=\"https://colab.research.google.com/assets/colab-badge.svg\" alt=\"Open In Colab\"/></a>"
      ]
    },
    {
      "cell_type": "markdown",
      "source": [
        "task 04\n"
      ],
      "metadata": {
        "id": "n_yIVVbApcUr"
      }
    },
    {
      "cell_type": "code",
      "source": [
        "import random\n",
        "choices = [\"rock\", \"paper\", \"scissors\"]\n",
        "user_score = 0\n",
        "computer_score = 0\n",
        "\n",
        "def get_winner(user, computer):\n",
        "    if user == computer:\n",
        "        return \"tie\"\n",
        "    elif (user == \"rock\" and computer == \"scissors\") or \\\n",
        "         (user == \"scissors\" and computer == \"paper\") or \\\n",
        "         (user == \"paper\" and computer == \"rock\"):\n",
        "        return \"user\"\n",
        "    else:\n",
        "        return \"computer\"\n",
        "while True:\n",
        "    print(\"\\n--- Rock, Paper, Scissors ---\")\n",
        "    print(\"Choose: rock, paper, or scissors\")\n",
        "    user_choice = input(\"Your choice: \").lower()\n",
        "\n",
        "    if user_choice not in choices:\n",
        "        print(\"Invalid choice. Try again.\")\n",
        "        continue\n",
        "\n",
        "    computer_choice = random.choice(choices)\n",
        "    print(\"Computer chose:\", computer_choice)\n",
        "\n",
        "    winner = get_winner(user_choice, computer_choice)\n",
        "\n",
        "    if winner == \"tie\":\n",
        "        print(\"It's a tie!\")\n",
        "    elif winner == \"user\":\n",
        "        print(\"You win!\")\n",
        "        user_score += 1\n",
        "    else:\n",
        "        print(\"Computer wins!\")\n",
        "        computer_score += 1\n",
        "    print(f\"Score => You: {user_score} | Computer: {computer_score}\")\n",
        "    play_again = input(\"Play again? (yes/no): \").lower()\n",
        "    if play_again != \"yes\":\n",
        "        print(\"Thanks for playing!\")\n",
        "        break\n"
      ],
      "metadata": {
        "id": "KzMBaYpDpmUs"
      },
      "execution_count": null,
      "outputs": []
    },
    {
      "cell_type": "markdown",
      "source": [],
      "metadata": {
        "id": "QAta3I2GugBR"
      }
    }
  ],
  "metadata": {
    "colab": {
      "name": "Welcome To Colab",
      "provenance": [],
      "include_colab_link": true
    },
    "kernelspec": {
      "display_name": "Python 3",
      "name": "python3"
    }
  },
  "nbformat": 4,
  "nbformat_minor": 0
}